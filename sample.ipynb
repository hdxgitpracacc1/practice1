{
 "cells": [
  {
   "cell_type": "code",
   "execution_count": 1,
   "id": "9c754a48",
   "metadata": {},
   "outputs": [
    {
     "name": "stdout",
     "output_type": "stream",
     "text": [
      "<pymongo.synchronous.cursor.Cursor object at 0x00000136F3AAF200>\n"
     ]
    }
   ],
   "source": [
    "from pymongo import MongoClient\n",
    "\n",
    "# Replace with your MongoDB connection string\n",
    "mongo_uri = \"mongodb://localhost:27017/\"\n",
    "\n",
    "# Create a MongoClient to the running mongod instance\n",
    "client = MongoClient(mongo_uri)\n",
    "\n",
    "# Access a database (will be created if it doesn't exist)\n",
    "db = client[\"ai\"]\n",
    "\n",
    "# Access a collection (will be created if it doesn't exist)\n",
    "collection = db[\"tools\"]\n",
    "\n",
    "\n",
    "print(collection.find())"
   ]
  },
  {
   "cell_type": "code",
   "execution_count": 2,
   "id": "56f975d2",
   "metadata": {},
   "outputs": [
    {
     "name": "stdout",
     "output_type": "stream",
     "text": [
      "           fever  bodypain  age  runnynose  diffbreath  infected\n",
      "0      99.329862         0   26          1          -1         0\n",
      "1      98.115263         1   61          1           0         1\n",
      "2      99.918088         1   13          0          -1         0\n",
      "3     101.344456         1   55          1           0         1\n",
      "4     100.056678         1   37          0           1         0\n",
      "...          ...       ...  ...        ...         ...       ...\n",
      "1994  101.671891         1   33          1          -1         1\n",
      "1995  101.673979         1   38          0           1         1\n",
      "1996   99.804430         1   76          0          -1         1\n",
      "1997   98.565582         1   62          1          -1         1\n",
      "1998  101.235846         0   14          1           0         0\n",
      "\n",
      "[1999 rows x 6 columns]\n"
     ]
    }
   ],
   "source": [
    "import pandas as pd\n",
    "\n",
    "# Example: create a pandas DataFrame from MongoDB collection\n",
    "df=pd.read_csv(\"corona.xls\")\n",
    "print(df)"
   ]
  },
  {
   "cell_type": "code",
   "execution_count": null,
   "id": "578742b6",
   "metadata": {},
   "outputs": [],
   "source": []
  }
 ],
 "metadata": {
  "kernelspec": {
   "display_name": "base",
   "language": "python",
   "name": "python3"
  },
  "language_info": {
   "codemirror_mode": {
    "name": "ipython",
    "version": 3
   },
   "file_extension": ".py",
   "mimetype": "text/x-python",
   "name": "python",
   "nbconvert_exporter": "python",
   "pygments_lexer": "ipython3",
   "version": "3.12.4"
  }
 },
 "nbformat": 4,
 "nbformat_minor": 5
}
