{
 "cells": [
  {
   "cell_type": "code",
   "execution_count": 1,
   "id": "9c754a48",
   "metadata": {},
   "outputs": [
    {
     "name": "stdout",
     "output_type": "stream",
     "text": [
      "<pymongo.synchronous.cursor.Cursor object at 0x00000136F3AAF200>\n"
     ]
    }
   ],
   "source": [
    "from pymongo import MongoClient\n",
    "\n",
    "# Replace with your MongoDB connection string\n",
    "mongo_uri = \"mongodb://localhost:27017/\"\n",
    "\n",
    "# Create a MongoClient to the running mongod instance\n",
    "client = MongoClient(mongo_uri)\n",
    "\n",
    "# Access a database (will be created if it doesn't exist)\n",
    "db = client[\"ai\"]\n",
    "\n",
    "# Access a collection (will be created if it doesn't exist)\n",
    "collection = db[\"tools\"]\n",
    "\n",
    "\n",
    "print(collection.find())"
   ]
  }
 ],
 "metadata": {
  "kernelspec": {
   "display_name": "base",
   "language": "python",
   "name": "python3"
  },
  "language_info": {
   "codemirror_mode": {
    "name": "ipython",
    "version": 3
   },
   "file_extension": ".py",
   "mimetype": "text/x-python",
   "name": "python",
   "nbconvert_exporter": "python",
   "pygments_lexer": "ipython3",
   "version": "3.12.4"
  }
 },
 "nbformat": 4,
 "nbformat_minor": 5
}
